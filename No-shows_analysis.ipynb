{
 "cells": [
  {
   "cell_type": "markdown",
   "id": "ab04f1fa",
   "metadata": {},
   "source": [
    "# Project: No-Show appointments Analysis\n",
    "\n",
    "## Table of Contents\n",
    "<ul>\n",
    "<li><a href=\"#intro\">Introduction</a></li>\n",
    "<li><a href=\"#wrangling\">Data Wrangling</a></li>\n",
    "<li><a href=\"#analysis\">Exploratory Data Analysis</a></li>\n",
    "<li><a href=\"#conclusion\">Conclusions</a></li>\n",
    "</ul>\n"
   ]
  },
  {
   "cell_type": "markdown",
   "id": "33ae0136",
   "metadata": {},
   "source": [
    "<a id='intro'></a>\n",
    "## Introduction\n",
    "\n",
    "This dataset collects information from over 100K medical appointments in Brazil and is focused on the question\n",
    "of whether or not patients show up for their appointment. What factors are important for us to know in order to predict if a patient will show up for their scheduled appointment? A number of characteristics about the patient are included in the dataset description. The dataset can be found [here](https://www.kaggle.com/datasets/joniarroba/noshowappointments) on kaggle.\n"
   ]
  },
  {
   "cell_type": "markdown",
   "id": "78996c22",
   "metadata": {},
   "source": [
    "### <li> Dataset description\n",
    "    \n",
    "<li> PatientId: \n",
    "Identification of a patient\n",
    "<li> AppointmentID:\n",
    "Identification for each appointment\n",
    "<li> Gender\n",
    "Male or Female . Female is the greater proportion, woman takes way more care of they health in comparison to man.\n",
    "<li> DataMarcacaoConsulta\n",
    "The day of the actuall appointment, when they have to visit the doctor.\n",
    "<li> DataAgendamento\n",
    "The day someone called or registered the appointment, this is before appointment of course.\n",
    "<li> Age: \n",
    "How old is the patient.\n",
    "<li> Neighbourhood: \n",
    "Where the appointment takes place.\n",
    "<li> Scholarship: \n",
    "True of False . Observation, this is a broad topic, consider reading this article \n",
    "<li> Hipertension: \n",
    "True or False\n",
    "<li> Diabetes: \n",
    "True or False\n",
    "<li> Alcoholism: \n",
    "True or False\n",
    "<li> Handcap: \n",
    "True or False\n",
    "<li> SMS_received: True or False\n",
    "    \n",
    "<li> No-Show: Whether the patient showed up for the appointment (True or False)"
   ]
  },
  {
   "cell_type": "markdown",
   "id": "d8a2ba3c",
   "metadata": {},
   "source": [
    "### <li> Questions Investigated\n",
    "\n",
    "1. Does a certain Age group tend to show more for a scheduled appointment? If Yes, why?\n",
    "2. Do patients with ailments show up more for appointments?\n",
    "3. Is enrollment in the welfare programme a determining factor for patients showing up for their scheduled appointments?\n",
    "4. Does waiting time have an effect on patients showing up or missing an appointment?\n",
    "5. Does SMS receival influence the showing of a patient for a scheduled appointment?\n",
    " \n"
   ]
  },
  {
   "cell_type": "markdown",
   "id": "e6088489",
   "metadata": {},
   "source": [
    "<a id='wrangling'></a>\n",
    "## Data Wrangling\n",
    "\n",
    "### <li> General Properties"
   ]
  },
  {
   "cell_type": "code",
   "execution_count": 1,
   "id": "2739c840",
   "metadata": {},
   "outputs": [],
   "source": [
    "import pandas as pd\n",
    "import numpy as np\n",
    "import matplotlib.pyplot as plt\n",
    "%matplotlib inline"
   ]
  },
  {
   "cell_type": "code",
   "execution_count": 2,
   "id": "e838e3c0",
   "metadata": {},
   "outputs": [
    {
     "data": {
      "text/html": [
       "<div>\n",
       "<style scoped>\n",
       "    .dataframe tbody tr th:only-of-type {\n",
       "        vertical-align: middle;\n",
       "    }\n",
       "\n",
       "    .dataframe tbody tr th {\n",
       "        vertical-align: top;\n",
       "    }\n",
       "\n",
       "    .dataframe thead th {\n",
       "        text-align: right;\n",
       "    }\n",
       "</style>\n",
       "<table border=\"1\" class=\"dataframe\">\n",
       "  <thead>\n",
       "    <tr style=\"text-align: right;\">\n",
       "      <th></th>\n",
       "      <th>PatientId</th>\n",
       "      <th>AppointmentID</th>\n",
       "      <th>Gender</th>\n",
       "      <th>ScheduledDay</th>\n",
       "      <th>AppointmentDay</th>\n",
       "      <th>Age</th>\n",
       "      <th>Neighbourhood</th>\n",
       "      <th>Scholarship</th>\n",
       "      <th>Hipertension</th>\n",
       "      <th>Diabetes</th>\n",
       "      <th>Alcoholism</th>\n",
       "      <th>Handcap</th>\n",
       "      <th>SMS_received</th>\n",
       "      <th>No-show</th>\n",
       "    </tr>\n",
       "  </thead>\n",
       "  <tbody>\n",
       "    <tr>\n",
       "      <th>0</th>\n",
       "      <td>2.987250e+13</td>\n",
       "      <td>5642903</td>\n",
       "      <td>F</td>\n",
       "      <td>2016-04-29T18:38:08Z</td>\n",
       "      <td>2016-04-29T00:00:00Z</td>\n",
       "      <td>62</td>\n",
       "      <td>JARDIM DA PENHA</td>\n",
       "      <td>0</td>\n",
       "      <td>1</td>\n",
       "      <td>0</td>\n",
       "      <td>0</td>\n",
       "      <td>0</td>\n",
       "      <td>0</td>\n",
       "      <td>No</td>\n",
       "    </tr>\n",
       "    <tr>\n",
       "      <th>1</th>\n",
       "      <td>5.589978e+14</td>\n",
       "      <td>5642503</td>\n",
       "      <td>M</td>\n",
       "      <td>2016-04-29T16:08:27Z</td>\n",
       "      <td>2016-04-29T00:00:00Z</td>\n",
       "      <td>56</td>\n",
       "      <td>JARDIM DA PENHA</td>\n",
       "      <td>0</td>\n",
       "      <td>0</td>\n",
       "      <td>0</td>\n",
       "      <td>0</td>\n",
       "      <td>0</td>\n",
       "      <td>0</td>\n",
       "      <td>No</td>\n",
       "    </tr>\n",
       "    <tr>\n",
       "      <th>2</th>\n",
       "      <td>4.262962e+12</td>\n",
       "      <td>5642549</td>\n",
       "      <td>F</td>\n",
       "      <td>2016-04-29T16:19:04Z</td>\n",
       "      <td>2016-04-29T00:00:00Z</td>\n",
       "      <td>62</td>\n",
       "      <td>MATA DA PRAIA</td>\n",
       "      <td>0</td>\n",
       "      <td>0</td>\n",
       "      <td>0</td>\n",
       "      <td>0</td>\n",
       "      <td>0</td>\n",
       "      <td>0</td>\n",
       "      <td>No</td>\n",
       "    </tr>\n",
       "    <tr>\n",
       "      <th>3</th>\n",
       "      <td>8.679512e+11</td>\n",
       "      <td>5642828</td>\n",
       "      <td>F</td>\n",
       "      <td>2016-04-29T17:29:31Z</td>\n",
       "      <td>2016-04-29T00:00:00Z</td>\n",
       "      <td>8</td>\n",
       "      <td>PONTAL DE CAMBURI</td>\n",
       "      <td>0</td>\n",
       "      <td>0</td>\n",
       "      <td>0</td>\n",
       "      <td>0</td>\n",
       "      <td>0</td>\n",
       "      <td>0</td>\n",
       "      <td>No</td>\n",
       "    </tr>\n",
       "    <tr>\n",
       "      <th>4</th>\n",
       "      <td>8.841186e+12</td>\n",
       "      <td>5642494</td>\n",
       "      <td>F</td>\n",
       "      <td>2016-04-29T16:07:23Z</td>\n",
       "      <td>2016-04-29T00:00:00Z</td>\n",
       "      <td>56</td>\n",
       "      <td>JARDIM DA PENHA</td>\n",
       "      <td>0</td>\n",
       "      <td>1</td>\n",
       "      <td>1</td>\n",
       "      <td>0</td>\n",
       "      <td>0</td>\n",
       "      <td>0</td>\n",
       "      <td>No</td>\n",
       "    </tr>\n",
       "  </tbody>\n",
       "</table>\n",
       "</div>"
      ],
      "text/plain": [
       "      PatientId  AppointmentID Gender          ScheduledDay  \\\n",
       "0  2.987250e+13        5642903      F  2016-04-29T18:38:08Z   \n",
       "1  5.589978e+14        5642503      M  2016-04-29T16:08:27Z   \n",
       "2  4.262962e+12        5642549      F  2016-04-29T16:19:04Z   \n",
       "3  8.679512e+11        5642828      F  2016-04-29T17:29:31Z   \n",
       "4  8.841186e+12        5642494      F  2016-04-29T16:07:23Z   \n",
       "\n",
       "         AppointmentDay  Age      Neighbourhood  Scholarship  Hipertension  \\\n",
       "0  2016-04-29T00:00:00Z   62    JARDIM DA PENHA            0             1   \n",
       "1  2016-04-29T00:00:00Z   56    JARDIM DA PENHA            0             0   \n",
       "2  2016-04-29T00:00:00Z   62      MATA DA PRAIA            0             0   \n",
       "3  2016-04-29T00:00:00Z    8  PONTAL DE CAMBURI            0             0   \n",
       "4  2016-04-29T00:00:00Z   56    JARDIM DA PENHA            0             1   \n",
       "\n",
       "   Diabetes  Alcoholism  Handcap  SMS_received No-show  \n",
       "0         0           0        0             0      No  \n",
       "1         0           0        0             0      No  \n",
       "2         0           0        0             0      No  \n",
       "3         0           0        0             0      No  \n",
       "4         1           0        0             0      No  "
      ]
     },
     "execution_count": 2,
     "metadata": {},
     "output_type": "execute_result"
    }
   ],
   "source": [
    "# loading the dataset into the notebook and viewing the first few rows.\n",
    "\n",
    "df = pd.read_csv('noshowappointments-kagglev2-may-2016.csv')\n",
    "df.head()"
   ]
  },
  {
   "cell_type": "code",
   "execution_count": 3,
   "id": "505f98b4",
   "metadata": {},
   "outputs": [
    {
     "data": {
      "text/plain": [
       "(110527, 14)"
      ]
     },
     "execution_count": 3,
     "metadata": {},
     "output_type": "execute_result"
    }
   ],
   "source": [
    "# checking the size of the dataset\n",
    "\n",
    "df.shape"
   ]
  },
  {
   "cell_type": "code",
   "execution_count": 4,
   "id": "ee4c02b7",
   "metadata": {},
   "outputs": [
    {
     "name": "stdout",
     "output_type": "stream",
     "text": [
      "<class 'pandas.core.frame.DataFrame'>\n",
      "RangeIndex: 110527 entries, 0 to 110526\n",
      "Data columns (total 14 columns):\n",
      " #   Column          Non-Null Count   Dtype  \n",
      "---  ------          --------------   -----  \n",
      " 0   PatientId       110527 non-null  float64\n",
      " 1   AppointmentID   110527 non-null  int64  \n",
      " 2   Gender          110527 non-null  object \n",
      " 3   ScheduledDay    110527 non-null  object \n",
      " 4   AppointmentDay  110527 non-null  object \n",
      " 5   Age             110527 non-null  int64  \n",
      " 6   Neighbourhood   110527 non-null  object \n",
      " 7   Scholarship     110527 non-null  int64  \n",
      " 8   Hipertension    110527 non-null  int64  \n",
      " 9   Diabetes        110527 non-null  int64  \n",
      " 10  Alcoholism      110527 non-null  int64  \n",
      " 11  Handcap         110527 non-null  int64  \n",
      " 12  SMS_received    110527 non-null  int64  \n",
      " 13  No-show         110527 non-null  object \n",
      "dtypes: float64(1), int64(8), object(5)\n",
      "memory usage: 11.8+ MB\n"
     ]
    }
   ],
   "source": [
    "df.info()"
   ]
  },
  {
   "cell_type": "markdown",
   "id": "2cb89331",
   "metadata": {},
   "source": [
    "From the `df.info()` method executed in the row above, it can be seen that there are no null values in the DataFrame; but the `ScheduledDay` and `AppointmentDay` columns are not in their required format and will be set to the required format which is the **datetime** format. A better look at the number of null values in the DataFrame can be seen by executing the `df.isnull().sum()` method which shows that no column in the DataFrame contains a null value.\n"
   ]
  },
  {
   "cell_type": "code",
   "execution_count": 5,
   "id": "8c2d6c07",
   "metadata": {},
   "outputs": [
    {
     "data": {
      "text/plain": [
       "PatientId         0\n",
       "AppointmentID     0\n",
       "Gender            0\n",
       "ScheduledDay      0\n",
       "AppointmentDay    0\n",
       "Age               0\n",
       "Neighbourhood     0\n",
       "Scholarship       0\n",
       "Hipertension      0\n",
       "Diabetes          0\n",
       "Alcoholism        0\n",
       "Handcap           0\n",
       "SMS_received      0\n",
       "No-show           0\n",
       "dtype: int64"
      ]
     },
     "execution_count": 5,
     "metadata": {},
     "output_type": "execute_result"
    }
   ],
   "source": [
    "df.isnull().sum()"
   ]
  },
  {
   "cell_type": "code",
   "execution_count": 6,
   "id": "10830900",
   "metadata": {},
   "outputs": [
    {
     "data": {
      "text/plain": [
       "0"
      ]
     },
     "execution_count": 6,
     "metadata": {},
     "output_type": "execute_result"
    }
   ],
   "source": [
    "df.duplicated().sum()"
   ]
  },
  {
   "cell_type": "markdown",
   "id": "91c7e117",
   "metadata": {},
   "source": [
    "The method `df.duplicated().sum()` executed above is used to determine the number of duplicate values in the dataframe and from the result generated, it indicates that there are no duplicate values in the dataframe.  "
   ]
  },
  {
   "cell_type": "code",
   "execution_count": 7,
   "id": "53f01b0a",
   "metadata": {},
   "outputs": [
    {
     "data": {
      "text/plain": [
       "PatientId          62299\n",
       "AppointmentID     110527\n",
       "Gender                 2\n",
       "ScheduledDay      103549\n",
       "AppointmentDay        27\n",
       "Age                  104\n",
       "Neighbourhood         81\n",
       "Scholarship            2\n",
       "Hipertension           2\n",
       "Diabetes               2\n",
       "Alcoholism             2\n",
       "Handcap                5\n",
       "SMS_received           2\n",
       "No-show                2\n",
       "dtype: int64"
      ]
     },
     "execution_count": 7,
     "metadata": {},
     "output_type": "execute_result"
    }
   ],
   "source": [
    "# this checks for the number of unique values in each column of the DataFrame\n",
    "\n",
    "df.nunique()"
   ]
  },
  {
   "cell_type": "markdown",
   "id": "8a9ef79c",
   "metadata": {},
   "source": [
    "By checking for the number of unique values in each column in the dataframe using the `df.nunique()` method, it can be deduced that no two appointment made with the doctor was the same, some patients visited the doctor more than once and also, some patients had more than one disability as seen in the `Handcap` column."
   ]
  },
  {
   "cell_type": "code",
   "execution_count": 8,
   "id": "d94b89de",
   "metadata": {},
   "outputs": [
    {
     "data": {
      "text/html": [
       "<div>\n",
       "<style scoped>\n",
       "    .dataframe tbody tr th:only-of-type {\n",
       "        vertical-align: middle;\n",
       "    }\n",
       "\n",
       "    .dataframe tbody tr th {\n",
       "        vertical-align: top;\n",
       "    }\n",
       "\n",
       "    .dataframe thead th {\n",
       "        text-align: right;\n",
       "    }\n",
       "</style>\n",
       "<table border=\"1\" class=\"dataframe\">\n",
       "  <thead>\n",
       "    <tr style=\"text-align: right;\">\n",
       "      <th></th>\n",
       "      <th>PatientId</th>\n",
       "      <th>AppointmentID</th>\n",
       "      <th>Age</th>\n",
       "      <th>Scholarship</th>\n",
       "      <th>Hipertension</th>\n",
       "      <th>Diabetes</th>\n",
       "      <th>Alcoholism</th>\n",
       "      <th>Handcap</th>\n",
       "      <th>SMS_received</th>\n",
       "    </tr>\n",
       "  </thead>\n",
       "  <tbody>\n",
       "    <tr>\n",
       "      <th>count</th>\n",
       "      <td>1.105270e+05</td>\n",
       "      <td>1.105270e+05</td>\n",
       "      <td>110527.000000</td>\n",
       "      <td>110527.000000</td>\n",
       "      <td>110527.000000</td>\n",
       "      <td>110527.000000</td>\n",
       "      <td>110527.000000</td>\n",
       "      <td>110527.000000</td>\n",
       "      <td>110527.000000</td>\n",
       "    </tr>\n",
       "    <tr>\n",
       "      <th>mean</th>\n",
       "      <td>1.474963e+14</td>\n",
       "      <td>5.675305e+06</td>\n",
       "      <td>37.088874</td>\n",
       "      <td>0.098266</td>\n",
       "      <td>0.197246</td>\n",
       "      <td>0.071865</td>\n",
       "      <td>0.030400</td>\n",
       "      <td>0.022248</td>\n",
       "      <td>0.321026</td>\n",
       "    </tr>\n",
       "    <tr>\n",
       "      <th>std</th>\n",
       "      <td>2.560949e+14</td>\n",
       "      <td>7.129575e+04</td>\n",
       "      <td>23.110205</td>\n",
       "      <td>0.297675</td>\n",
       "      <td>0.397921</td>\n",
       "      <td>0.258265</td>\n",
       "      <td>0.171686</td>\n",
       "      <td>0.161543</td>\n",
       "      <td>0.466873</td>\n",
       "    </tr>\n",
       "    <tr>\n",
       "      <th>min</th>\n",
       "      <td>3.921784e+04</td>\n",
       "      <td>5.030230e+06</td>\n",
       "      <td>-1.000000</td>\n",
       "      <td>0.000000</td>\n",
       "      <td>0.000000</td>\n",
       "      <td>0.000000</td>\n",
       "      <td>0.000000</td>\n",
       "      <td>0.000000</td>\n",
       "      <td>0.000000</td>\n",
       "    </tr>\n",
       "    <tr>\n",
       "      <th>25%</th>\n",
       "      <td>4.172614e+12</td>\n",
       "      <td>5.640286e+06</td>\n",
       "      <td>18.000000</td>\n",
       "      <td>0.000000</td>\n",
       "      <td>0.000000</td>\n",
       "      <td>0.000000</td>\n",
       "      <td>0.000000</td>\n",
       "      <td>0.000000</td>\n",
       "      <td>0.000000</td>\n",
       "    </tr>\n",
       "    <tr>\n",
       "      <th>50%</th>\n",
       "      <td>3.173184e+13</td>\n",
       "      <td>5.680573e+06</td>\n",
       "      <td>37.000000</td>\n",
       "      <td>0.000000</td>\n",
       "      <td>0.000000</td>\n",
       "      <td>0.000000</td>\n",
       "      <td>0.000000</td>\n",
       "      <td>0.000000</td>\n",
       "      <td>0.000000</td>\n",
       "    </tr>\n",
       "    <tr>\n",
       "      <th>75%</th>\n",
       "      <td>9.439172e+13</td>\n",
       "      <td>5.725524e+06</td>\n",
       "      <td>55.000000</td>\n",
       "      <td>0.000000</td>\n",
       "      <td>0.000000</td>\n",
       "      <td>0.000000</td>\n",
       "      <td>0.000000</td>\n",
       "      <td>0.000000</td>\n",
       "      <td>1.000000</td>\n",
       "    </tr>\n",
       "    <tr>\n",
       "      <th>max</th>\n",
       "      <td>9.999816e+14</td>\n",
       "      <td>5.790484e+06</td>\n",
       "      <td>115.000000</td>\n",
       "      <td>1.000000</td>\n",
       "      <td>1.000000</td>\n",
       "      <td>1.000000</td>\n",
       "      <td>1.000000</td>\n",
       "      <td>4.000000</td>\n",
       "      <td>1.000000</td>\n",
       "    </tr>\n",
       "  </tbody>\n",
       "</table>\n",
       "</div>"
      ],
      "text/plain": [
       "          PatientId  AppointmentID            Age    Scholarship  \\\n",
       "count  1.105270e+05   1.105270e+05  110527.000000  110527.000000   \n",
       "mean   1.474963e+14   5.675305e+06      37.088874       0.098266   \n",
       "std    2.560949e+14   7.129575e+04      23.110205       0.297675   \n",
       "min    3.921784e+04   5.030230e+06      -1.000000       0.000000   \n",
       "25%    4.172614e+12   5.640286e+06      18.000000       0.000000   \n",
       "50%    3.173184e+13   5.680573e+06      37.000000       0.000000   \n",
       "75%    9.439172e+13   5.725524e+06      55.000000       0.000000   \n",
       "max    9.999816e+14   5.790484e+06     115.000000       1.000000   \n",
       "\n",
       "        Hipertension       Diabetes     Alcoholism        Handcap  \\\n",
       "count  110527.000000  110527.000000  110527.000000  110527.000000   \n",
       "mean        0.197246       0.071865       0.030400       0.022248   \n",
       "std         0.397921       0.258265       0.171686       0.161543   \n",
       "min         0.000000       0.000000       0.000000       0.000000   \n",
       "25%         0.000000       0.000000       0.000000       0.000000   \n",
       "50%         0.000000       0.000000       0.000000       0.000000   \n",
       "75%         0.000000       0.000000       0.000000       0.000000   \n",
       "max         1.000000       1.000000       1.000000       4.000000   \n",
       "\n",
       "        SMS_received  \n",
       "count  110527.000000  \n",
       "mean        0.321026  \n",
       "std         0.466873  \n",
       "min         0.000000  \n",
       "25%         0.000000  \n",
       "50%         0.000000  \n",
       "75%         1.000000  \n",
       "max         1.000000  "
      ]
     },
     "execution_count": 8,
     "metadata": {},
     "output_type": "execute_result"
    }
   ],
   "source": [
    "# this gives a quick statistics of the numerical columns in the DataFrame\n",
    "\n",
    "df.describe()"
   ]
  },
  {
   "cell_type": "markdown",
   "id": "713bca6f",
   "metadata": {},
   "source": [
    "From a quick description of the dataset generated with the `df.describe()` method, the following deductions can be made:\n",
    "\n",
    "1. There is an outlier in the `Age` column because it is impossible to have an age of -1 so it will be removed.\n",
    "2. Majority of the patients were between the ages of 18 and 55 although we have aged patients with ages >100\n",
    "3. About **9%** of the total appointments recorded had patients who were **registered under the Brazilian Welfare program.**\n",
    "4. **About 19%** of total AppointmentID recorded had patients suffering from **hypertension**, **7% were suffering from Diabetes,** a meagre **3% were alcoholics**, **2% had one disability or the other** while just **32% received an SMS notification as a reminder of their appointment with the doctor.**"
   ]
  },
  {
   "cell_type": "markdown",
   "id": "1db954de",
   "metadata": {},
   "source": [
    "### <li> Data Cleaning\n",
    "\n",
    "As was detected when the `df.info()` method was run under the general properties section, the `ScheduledDay` and `AppointmentDay` columns contained wrong formats for analysis and they are changed into their required format below. I don't need the `Neighbourhood` column for this analysis, so it will be dropped. The `df.dtypes` property is executed to confirm the change."
   ]
  },
  {
   "cell_type": "code",
   "execution_count": 9,
   "id": "2d3f5eff",
   "metadata": {},
   "outputs": [
    {
     "name": "stdout",
     "output_type": "stream",
     "text": [
      "PatientId                float64\n",
      "AppointmentID              int64\n",
      "Gender                    object\n",
      "ScheduledDay      datetime64[ns]\n",
      "AppointmentDay    datetime64[ns]\n",
      "Age                        int64\n",
      "Scholarship                int64\n",
      "Hipertension               int64\n",
      "Diabetes                   int64\n",
      "Alcoholism                 int64\n",
      "Handcap                    int64\n",
      "SMS_received               int64\n",
      "No-show                   object\n",
      "dtype: object\n"
     ]
    }
   ],
   "source": [
    "# The scheduledDay and AppointmentDay columns are changed to the datetime format\n",
    "\n",
    "df = df.astype({'ScheduledDay':'datetime64', 'AppointmentDay':'datetime64'})\n",
    "\n",
    "# dropping the Neighbourhood column\n",
    "\n",
    "df.drop(['Neighbourhood'], axis=1, inplace = True)\n",
    "\n",
    "print(df.dtypes)"
   ]
  },
  {
   "cell_type": "markdown",
   "id": "e399506d",
   "metadata": {},
   "source": [
    "As observed when the `df.describe()` method was executed, an outlier was detected in the `Age` column and it is removed in the code cell below. A look at the size of the dataframe with the `df.shape` attribute confirms that the outlier has been removed because the number of rows reduces from 110527 to 110526.\n",
    "\n",
    "After this, the data is quite clean and would not require any further cleaning step but rather diving into an Exploratory analysis of the data."
   ]
  },
  {
   "cell_type": "code",
   "execution_count": 10,
   "id": "ff2aa4aa",
   "metadata": {},
   "outputs": [
    {
     "data": {
      "text/plain": [
       "(110526, 13)"
      ]
     },
     "execution_count": 10,
     "metadata": {},
     "output_type": "execute_result"
    }
   ],
   "source": [
    "# Removing the outlier in the Age column\n",
    "\n",
    "df = df.query('Age != -1') \n",
    "df.shape"
   ]
  },
  {
   "cell_type": "markdown",
   "id": "8e989932",
   "metadata": {},
   "source": [
    "<a id = analysis></a>\n",
    "\n",
    "## Exploratory Data Analysis"
   ]
  },
  {
   "cell_type": "code",
   "execution_count": 11,
   "id": "646bd5a1",
   "metadata": {},
   "outputs": [
    {
     "data": {
      "image/png": "[encoded data removed]",
      "text/plain": [
       "<Figure size 720x720 with 12 Axes>"
      ]
     },
     "metadata": {
      "needs_background": "light"
     },
     "output_type": "display_data"
    }
   ],
   "source": [
    "df.hist(figsize=(10, 10), grid=False);"
   ]
  },
  {
   "cell_type": "markdown",
   "id": "beef2d03",
   "metadata": {},
   "source": [
    "### Investigating the Gender Column"
   ]
  },
  {
   "cell_type": "code",
   "execution_count": 12,
   "id": "d3b4fcb2",
   "metadata": {},
   "outputs": [
    {
     "data": {
      "image/png": "[encoded data removed]",
      "text/plain": [
       "<Figure size 432x288 with 1 Axes>"
      ]
     },
     "metadata": {
      "needs_background": "light"
     },
     "output_type": "display_data"
    }
   ],
   "source": [
    "df['Gender'].value_counts().plot(kind = 'bar', color = ['red', 'blue']);\n",
    "plt.ylabel('Population', fontsize= 12)\n",
    "plt.xlabel('Gender', fontsize =12)\n",
    "plt.title('Population by Gender', fontsize=13);\n"
   ]
  },
  {
   "cell_type": "markdown",
   "id": "a0a2c544",
   "metadata": {},
   "source": [
    "A quick look at the plot of the `Gender` column proves that females appear to be present more than males in this dataset."
   ]
  },
  {
   "cell_type": "markdown",
   "id": "e43fac96",
   "metadata": {},
   "source": [
    "### Analysing the Date Columns"
   ]
  },
  {
   "cell_type": "code",
   "execution_count": 13,
   "id": "4f7a1c4e",
   "metadata": {},
   "outputs": [
    {
     "data": {
      "text/html": [
       "<div>\n",
       "<style scoped>\n",
       "    .dataframe tbody tr th:only-of-type {\n",
       "        vertical-align: middle;\n",
       "    }\n",
       "\n",
       "    .dataframe tbody tr th {\n",
       "        vertical-align: top;\n",
       "    }\n",
       "\n",
       "    .dataframe thead th {\n",
       "        text-align: right;\n",
       "    }\n",
       "</style>\n",
       "<table border=\"1\" class=\"dataframe\">\n",
       "  <thead>\n",
       "    <tr style=\"text-align: right;\">\n",
       "      <th></th>\n",
       "      <th>PatientId</th>\n",
       "      <th>AppointmentID</th>\n",
       "      <th>Gender</th>\n",
       "      <th>ScheduledDay</th>\n",
       "      <th>AppointmentDay</th>\n",
       "      <th>Age</th>\n",
       "      <th>Scholarship</th>\n",
       "      <th>Hipertension</th>\n",
       "      <th>Diabetes</th>\n",
       "      <th>Alcoholism</th>\n",
       "      <th>Handcap</th>\n",
       "      <th>SMS_received</th>\n",
       "      <th>No-show</th>\n",
       "      <th>WaitingDays</th>\n",
       "    </tr>\n",
       "  </thead>\n",
       "  <tbody>\n",
       "    <tr>\n",
       "      <th>0</th>\n",
       "      <td>2.987250e+13</td>\n",
       "      <td>5642903</td>\n",
       "      <td>F</td>\n",
       "      <td>2016-04-29 18:38:08</td>\n",
       "      <td>2016-04-29</td>\n",
       "      <td>62</td>\n",
       "      <td>0</td>\n",
       "      <td>1</td>\n",
       "      <td>0</td>\n",
       "      <td>0</td>\n",
       "      <td>0</td>\n",
       "      <td>0</td>\n",
       "      <td>No</td>\n",
       "      <td>-1</td>\n",
       "    </tr>\n",
       "    <tr>\n",
       "      <th>1</th>\n",
       "      <td>5.589978e+14</td>\n",
       "      <td>5642503</td>\n",
       "      <td>M</td>\n",
       "      <td>2016-04-29 16:08:27</td>\n",
       "      <td>2016-04-29</td>\n",
       "      <td>56</td>\n",
       "      <td>0</td>\n",
       "      <td>0</td>\n",
       "      <td>0</td>\n",
       "      <td>0</td>\n",
       "      <td>0</td>\n",
       "      <td>0</td>\n",
       "      <td>No</td>\n",
       "      <td>-1</td>\n",
       "    </tr>\n",
       "    <tr>\n",
       "      <th>2</th>\n",
       "      <td>4.262962e+12</td>\n",
       "      <td>5642549</td>\n",
       "      <td>F</td>\n",
       "      <td>2016-04-29 16:19:04</td>\n",
       "      <td>2016-04-29</td>\n",
       "      <td>62</td>\n",
       "      <td>0</td>\n",
       "      <td>0</td>\n",
       "      <td>0</td>\n",
       "      <td>0</td>\n",
       "      <td>0</td>\n",
       "      <td>0</td>\n",
       "      <td>No</td>\n",
       "      <td>-1</td>\n",
       "    </tr>\n",
       "    <tr>\n",
       "      <th>3</th>\n",
       "      <td>8.679512e+11</td>\n",
       "      <td>5642828</td>\n",
       "      <td>F</td>\n",
       "      <td>2016-04-29 17:29:31</td>\n",
       "      <td>2016-04-29</td>\n",
       "      <td>8</td>\n",
       "      <td>0</td>\n",
       "      <td>0</td>\n",
       "      <td>0</td>\n",
       "      <td>0</td>\n",
       "      <td>0</td>\n",
       "      <td>0</td>\n",
       "      <td>No</td>\n",
       "      <td>-1</td>\n",
       "    </tr>\n",
       "    <tr>\n",
       "      <th>4</th>\n",
       "      <td>8.841186e+12</td>\n",
       "      <td>5642494</td>\n",
       "      <td>F</td>\n",
       "      <td>2016-04-29 16:07:23</td>\n",
       "      <td>2016-04-29</td>\n",
       "      <td>56</td>\n",
       "      <td>0</td>\n",
       "      <td>1</td>\n",
       "      <td>1</td>\n",
       "      <td>0</td>\n",
       "      <td>0</td>\n",
       "      <td>0</td>\n",
       "      <td>No</td>\n",
       "      <td>-1</td>\n",
       "    </tr>\n",
       "  </tbody>\n",
       "</table>\n",
       "</div>"
      ],
      "text/plain": [
       "      PatientId  AppointmentID Gender        ScheduledDay AppointmentDay  Age  \\\n",
       "0  2.987250e+13        5642903      F 2016-04-29 18:38:08     2016-04-29   62   \n",
       "1  5.589978e+14        5642503      M 2016-04-29 16:08:27     2016-04-29   56   \n",
       "2  4.262962e+12        5642549      F 2016-04-29 16:19:04     2016-04-29   62   \n",
       "3  8.679512e+11        5642828      F 2016-04-29 17:29:31     2016-04-29    8   \n",
       "4  8.841186e+12        5642494      F 2016-04-29 16:07:23     2016-04-29   56   \n",
       "\n",
       "   Scholarship  Hipertension  Diabetes  Alcoholism  Handcap  SMS_received  \\\n",
       "0            0             1         0           0        0             0   \n",
       "1            0             0         0           0        0             0   \n",
       "2            0             0         0           0        0             0   \n",
       "3            0             0         0           0        0             0   \n",
       "4            0             1         1           0        0             0   \n",
       "\n",
       "  No-show  WaitingDays  \n",
       "0      No           -1  \n",
       "1      No           -1  \n",
       "2      No           -1  \n",
       "3      No           -1  \n",
       "4      No           -1  "
      ]
     },
     "execution_count": 13,
     "metadata": {},
     "output_type": "execute_result"
    }
   ],
   "source": [
    "# Subtracting the ScheduledDay column from the AppointmentDay Column to create a new column of Waiting Days\n",
    "\n",
    "df['WaitingDays'] = (df['AppointmentDay'] - df['ScheduledDay']).dt.days\n",
    "\n",
    "df.head()"
   ]
  },
  {
   "cell_type": "markdown",
   "id": "5cf3f26b",
   "metadata": {},
   "source": [
    "Due to the presence of the timestamp in the `ScheduledDay` column, the subtraction made where the date values in the  `ScheduledDay` and `AppointmentDay` columns are the same returns a value of **-1** in the `WaitingDays` column.\n",
    "\n",
    "This can be corrected by replacing all the values of **-1**  in the `WaitingDays` column with **0**. Since the Scheduling and Appointment happened on the same day, it simply mean the patient didn't have to wait a whole day before seeing the doctor."
   ]
  },
  {
   "cell_type": "code",
   "execution_count": 14,
   "id": "bcd563ca",
   "metadata": {},
   "outputs": [
    {
     "data": {
      "text/html": [
       "<div>\n",
       "<style scoped>\n",
       "    .dataframe tbody tr th:only-of-type {\n",
       "        vertical-align: middle;\n",
       "    }\n",
       "\n",
       "    .dataframe tbody tr th {\n",
       "        vertical-align: top;\n",
       "    }\n",
       "\n",
       "    .dataframe thead th {\n",
       "        text-align: right;\n",
       "    }\n",
       "</style>\n",
       "<table border=\"1\" class=\"dataframe\">\n",
       "  <thead>\n",
       "    <tr style=\"text-align: right;\">\n",
       "      <th></th>\n",
       "      <th>PatientId</th>\n",
       "      <th>AppointmentID</th>\n",
       "      <th>Gender</th>\n",
       "      <th>ScheduledDay</th>\n",
       "      <th>AppointmentDay</th>\n",
       "      <th>Age</th>\n",
       "      <th>Scholarship</th>\n",
       "      <th>Hipertension</th>\n",
       "      <th>Diabetes</th>\n",
       "      <th>Alcoholism</th>\n",
       "      <th>Handcap</th>\n",
       "      <th>SMS_received</th>\n",
       "      <th>No-show</th>\n",
       "      <th>WaitingDays</th>\n",
       "    </tr>\n",
       "  </thead>\n",
       "  <tbody>\n",
       "  </tbody>\n",
       "</table>\n",
       "</div>"
      ],
      "text/plain": [
       "Empty DataFrame\n",
       "Columns: [PatientId, AppointmentID, Gender, ScheduledDay, AppointmentDay, Age, Scholarship, Hipertension, Diabetes, Alcoholism, Handcap, SMS_received, No-show, WaitingDays]\n",
       "Index: []"
      ]
     },
     "execution_count": 14,
     "metadata": {},
     "output_type": "execute_result"
    }
   ],
   "source": [
    "# replacing the values of -1 with 0 in the WaitingDays column\n",
    "df['WaitingDays'].replace(-1, 0, inplace=True)\n",
    "\n",
    "# Confirming the replacement\n",
    "df.query('WaitingDays == -1') # this returns an empty dataframe because no value of -1 exists anymore."
   ]
  },
  {
   "cell_type": "code",
   "execution_count": 15,
   "id": "cbb7de7a",
   "metadata": {},
   "outputs": [
    {
     "data": {
      "image/png": "[encoded data removed]",
      "text/plain": [
       "<Figure size 432x432 with 1 Axes>"
      ]
     },
     "metadata": {
      "needs_background": "light"
     },
     "output_type": "display_data"
    }
   ],
   "source": [
    "# Creating a custom function for plotting to avoid code repetition.\n",
    "\n",
    "def plot_figure(df, xlabel, ylabel, title, plot_type, color, figsize):\n",
    "    \n",
    "    \"\"\"\n",
    "    A custom function for creating exploratory visualisations\n",
    "    by providing the dataframe, the plot type ('hist' or 'bar') and axis details.\n",
    "    \"\"\"\n",
    "    df.plot(grid = False, kind = plot_type, color = color, figsize = figsize)\n",
    "    plt.xlabel(xlabel, fontsize = 13)\n",
    "    plt.ylabel(ylabel, fontsize = 13)\n",
    "    plt.title(title, fontsize = 13)\n",
    "    \n",
    "    return;\n",
    "\n",
    "plot_figure(df=df['WaitingDays'], xlabel=None, ylabel=None, \n",
    "            title=None, plot_type='hist', \n",
    "            color = 'blue', figsize = (6,6))\n"
   ]
  },
  {
   "cell_type": "markdown",
   "id": "c605e1ef",
   "metadata": {},
   "source": [
    "Looking at the histogram of `WaitingDays` above, the values do not begin from 0. This means there are still some values in the `WaitingDays` column that are less than zero. A quick investigation of the `WaitingDays` column using the `df.query()` method proves this."
   ]
  },
  {
   "cell_type": "code",
   "execution_count": 16,
   "id": "09026715",
   "metadata": {},
   "outputs": [
    {
     "data": {
      "text/html": [
       "<div>\n",
       "<style scoped>\n",
       "    .dataframe tbody tr th:only-of-type {\n",
       "        vertical-align: middle;\n",
       "    }\n",
       "\n",
       "    .dataframe tbody tr th {\n",
       "        vertical-align: top;\n",
       "    }\n",
       "\n",
       "    .dataframe thead th {\n",
       "        text-align: right;\n",
       "    }\n",
       "</style>\n",
       "<table border=\"1\" class=\"dataframe\">\n",
       "  <thead>\n",
       "    <tr style=\"text-align: right;\">\n",
       "      <th></th>\n",
       "      <th>PatientId</th>\n",
       "      <th>AppointmentID</th>\n",
       "      <th>Gender</th>\n",
       "      <th>ScheduledDay</th>\n",
       "      <th>AppointmentDay</th>\n",
       "      <th>Age</th>\n",
       "      <th>Scholarship</th>\n",
       "      <th>Hipertension</th>\n",
       "      <th>Diabetes</th>\n",
       "      <th>Alcoholism</th>\n",
       "      <th>Handcap</th>\n",
       "      <th>SMS_received</th>\n",
       "      <th>No-show</th>\n",
       "      <th>WaitingDays</th>\n",
       "    </tr>\n",
       "  </thead>\n",
       "  <tbody>\n",
       "    <tr>\n",
       "      <th>27033</th>\n",
       "      <td>7.839273e+12</td>\n",
       "      <td>5679978</td>\n",
       "      <td>M</td>\n",
       "      <td>2016-05-10 10:51:53</td>\n",
       "      <td>2016-05-09</td>\n",
       "      <td>38</td>\n",
       "      <td>0</td>\n",
       "      <td>0</td>\n",
       "      <td>0</td>\n",
       "      <td>0</td>\n",
       "      <td>1</td>\n",
       "      <td>0</td>\n",
       "      <td>Yes</td>\n",
       "      <td>-2</td>\n",
       "    </tr>\n",
       "    <tr>\n",
       "      <th>55226</th>\n",
       "      <td>7.896294e+12</td>\n",
       "      <td>5715660</td>\n",
       "      <td>F</td>\n",
       "      <td>2016-05-18 14:50:41</td>\n",
       "      <td>2016-05-17</td>\n",
       "      <td>19</td>\n",
       "      <td>0</td>\n",
       "      <td>0</td>\n",
       "      <td>0</td>\n",
       "      <td>0</td>\n",
       "      <td>1</td>\n",
       "      <td>0</td>\n",
       "      <td>Yes</td>\n",
       "      <td>-2</td>\n",
       "    </tr>\n",
       "    <tr>\n",
       "      <th>64175</th>\n",
       "      <td>2.425226e+13</td>\n",
       "      <td>5664962</td>\n",
       "      <td>F</td>\n",
       "      <td>2016-05-05 13:43:58</td>\n",
       "      <td>2016-05-04</td>\n",
       "      <td>22</td>\n",
       "      <td>0</td>\n",
       "      <td>0</td>\n",
       "      <td>0</td>\n",
       "      <td>0</td>\n",
       "      <td>0</td>\n",
       "      <td>0</td>\n",
       "      <td>Yes</td>\n",
       "      <td>-2</td>\n",
       "    </tr>\n",
       "    <tr>\n",
       "      <th>71533</th>\n",
       "      <td>9.982316e+14</td>\n",
       "      <td>5686628</td>\n",
       "      <td>F</td>\n",
       "      <td>2016-05-11 13:49:20</td>\n",
       "      <td>2016-05-05</td>\n",
       "      <td>81</td>\n",
       "      <td>0</td>\n",
       "      <td>0</td>\n",
       "      <td>0</td>\n",
       "      <td>0</td>\n",
       "      <td>0</td>\n",
       "      <td>0</td>\n",
       "      <td>Yes</td>\n",
       "      <td>-7</td>\n",
       "    </tr>\n",
       "    <tr>\n",
       "      <th>72362</th>\n",
       "      <td>3.787482e+12</td>\n",
       "      <td>5655637</td>\n",
       "      <td>M</td>\n",
       "      <td>2016-05-04 06:50:57</td>\n",
       "      <td>2016-05-03</td>\n",
       "      <td>7</td>\n",
       "      <td>0</td>\n",
       "      <td>0</td>\n",
       "      <td>0</td>\n",
       "      <td>0</td>\n",
       "      <td>0</td>\n",
       "      <td>0</td>\n",
       "      <td>Yes</td>\n",
       "      <td>-2</td>\n",
       "    </tr>\n",
       "  </tbody>\n",
       "</table>\n",
       "</div>"
      ],
      "text/plain": [
       "          PatientId  AppointmentID Gender        ScheduledDay AppointmentDay  \\\n",
       "27033  7.839273e+12        5679978      M 2016-05-10 10:51:53     2016-05-09   \n",
       "55226  7.896294e+12        5715660      F 2016-05-18 14:50:41     2016-05-17   \n",
       "64175  2.425226e+13        5664962      F 2016-05-05 13:43:58     2016-05-04   \n",
       "71533  9.982316e+14        5686628      F 2016-05-11 13:49:20     2016-05-05   \n",
       "72362  3.787482e+12        5655637      M 2016-05-04 06:50:57     2016-05-03   \n",
       "\n",
       "       Age  Scholarship  Hipertension  Diabetes  Alcoholism  Handcap  \\\n",
       "27033   38            0             0         0           0        1   \n",
       "55226   19            0             0         0           0        1   \n",
       "64175   22            0             0         0           0        0   \n",
       "71533   81            0             0         0           0        0   \n",
       "72362    7            0             0         0           0        0   \n",
       "\n",
       "       SMS_received No-show  WaitingDays  \n",
       "27033             0     Yes           -2  \n",
       "55226             0     Yes           -2  \n",
       "64175             0     Yes           -2  \n",
       "71533             0     Yes           -7  \n",
       "72362             0     Yes           -2  "
      ]
     },
     "execution_count": 16,
     "metadata": {},
     "output_type": "execute_result"
    }
   ],
   "source": [
    "df.query('WaitingDays < 0')"
   ]
  },
  {
   "cell_type": "markdown",
   "id": "1175b773",
   "metadata": {},
   "source": [
    "Since it is impossible to have the `ScheduledDay` column greater than the `AppointmentDay` column, all rows that have waiting days < 0 will be removed."
   ]
  },
  {
   "cell_type": "code",
   "execution_count": 17,
   "id": "b9cdb63e",
   "metadata": {},
   "outputs": [
    {
     "data": {
      "text/plain": [
       "(110521, 14)"
      ]
     },
     "execution_count": 17,
     "metadata": {},
     "output_type": "execute_result"
    }
   ],
   "source": [
    "# Removing the 5 rows with WaitingDays < 0\n",
    "\n",
    "df_edited = df.query('WaitingDays >= 0')\n",
    "\n",
    "df_edited.shape"
   ]
  },
  {
   "cell_type": "code",
   "execution_count": 18,
   "id": "c7027805",
   "metadata": {},
   "outputs": [
    {
     "data": {
      "image/png": "[encoded data removed]",
      "text/plain": [
       "<Figure size 432x360 with 1 Axes>"
      ]
     },
     "metadata": {
      "needs_background": "light"
     },
     "output_type": "display_data"
    }
   ],
   "source": [
    "# Calling the plot_figure function to plot histogram of the edited dataframe. \n",
    "\n",
    "plot_figure(df=df_edited['WaitingDays'], \n",
    "            plot_type = 'hist', color = 'blue',\n",
    "            xlabel='Number of Waiting Days', \n",
    "            ylabel='Number of AppointmentID', \n",
    "            title='Number of Appointment by Waiting Days',\n",
    "           figsize = (6,5))"
   ]
  },
  {
   "cell_type": "markdown",
   "id": "bdee9fc7",
   "metadata": {},
   "source": [
    "From the new histogram plot above, it can be deduced that most appointments were fixed on the day it was scheduled (registered) which invariably means that most patients had the opportunity to see the doctor the day their appointment was registered."
   ]
  },
  {
   "cell_type": "markdown",
   "id": "10b36b3b",
   "metadata": {},
   "source": [
    "### Segmenting the Age Column\n",
    "\n",
    "Segmenting the `Age` column into different Age groups will help in determining the population distribution of age ranges in this dataset and also help in determining their respective characteristics."
   ]
  },
  {
   "cell_type": "code",
   "execution_count": 19,
   "id": "d4dbd064",
   "metadata": {},
   "outputs": [
    {
     "name": "stderr",
     "output_type": "stream",
     "text": [
      "C:\\Users\\WILLIA~1\\AppData\\Local\\Temp/ipykernel_14440/2893087056.py:7: SettingWithCopyWarning: \n",
      "A value is trying to be set on a copy of a slice from a DataFrame.\n",
      "Try using .loc[row_indexer,col_indexer] = value instead\n",
      "\n",
      "See the caveats in the documentation: https://pandas.pydata.org/pandas-docs/stable/user_guide/indexing.html#returning-a-view-versus-a-copy\n",
      "  df_edited['AgeGroup'] = AgeGroup\n"
     ]
    }
   ],
   "source": [
    "# Segmenting the Age column into age groups\n",
    "\n",
    "Age_bins = [0, 20, 40, 60, 80, 100, 120]\n",
    "Age_labels = ['0-20', '20-40', '40-60', '60-80', '80-100', '100-120']\n",
    "AgeGroup = pd.cut(df_edited['Age'], bins=Age_bins, labels=Age_labels, include_lowest=True)\n",
    "\n",
    "df_edited['AgeGroup'] = AgeGroup\n"
   ]
  },
  {
   "cell_type": "code",
   "execution_count": 20,
   "id": "f4e3bcec",
   "metadata": {},
   "outputs": [
    {
     "name": "stdout",
     "output_type": "stream",
     "text": [
      "AgeGroup\n",
      "0-20       31846\n",
      "20-40      28833\n",
      "40-60      30081\n",
      "60-80      16910\n",
      "80-100      2844\n",
      "100-120        7\n",
      "Name: AgeGroup, dtype: int64\n"
     ]
    },
    {
     "data": {
      "image/png": "[encoded data removed]",
      "text/plain": [
       "<Figure size 432x360 with 1 Axes>"
      ]
     },
     "metadata": {
      "needs_background": "light"
     },
     "output_type": "display_data"
    }
   ],
   "source": [
    "AgeGroup_grouped = df_edited.groupby(['AgeGroup'])['AgeGroup'].count()\n",
    "print(AgeGroup_grouped)\n",
    "\n",
    "\n",
    "# calling the plot_figure function to plot number of patients by Age group.\n",
    "\n",
    "plot_figure(df=AgeGroup_grouped, color = 'green', xlabel='AgeGroups',\n",
    "           ylabel='Number of Patients',\n",
    "           title='Number of Patients by Age group',\n",
    "           plot_type='bar',  figsize= (6,5))"
   ]
  },
  {
   "cell_type": "markdown",
   "id": "00465014",
   "metadata": {},
   "source": [
    "From the plot of Population by Age group above, the age group `0-20` has the highest population followed by age group `40-60`"
   ]
  },
  {
   "cell_type": "markdown",
   "id": "f557e845",
   "metadata": {},
   "source": [
    "### Which age group had the highest number of Scholarship recipients?\n",
    "\n",
    "In answering this question, the dataset is masked to reveal the number of patients that are scholarship recipients and the resulting dataframe is grouped using the column `AgeGroup`"
   ]
  },
  {
   "cell_type": "code",
   "execution_count": 21,
   "id": "d10ef8c6",
   "metadata": {},
   "outputs": [
    {
     "name": "stdout",
     "output_type": "stream",
     "text": [
      "AgeGroup\n",
      "0-20       3559\n",
      "20-40      4162\n",
      "40-60      2602\n",
      "60-80       530\n",
      "80-100        8\n",
      "100-120       0\n",
      "Name: Scholarship, dtype: int64\n"
     ]
    }
   ],
   "source": [
    "# Investigating the age group with the highest number of patients enrolled in the welfare programme (i.e scholarship recipients)\n",
    "\n",
    "scholarship_recipients = df_edited.query('Scholarship == 1')\n",
    "\n",
    "scholarship_recipientsGrouped = scholarship_recipients.groupby('AgeGroup')['Scholarship'].count()\n",
    "\n",
    "print(scholarship_recipientsGrouped)\n"
   ]
  },
  {
   "cell_type": "code",
   "execution_count": 22,
   "id": "389ff9d4",
   "metadata": {},
   "outputs": [
    {
     "data": {
      "image/png": "[encoded data removed]",
      "text/plain": [
       "<Figure size 432x360 with 1 Axes>"
      ]
     },
     "metadata": {
      "needs_background": "light"
     },
     "output_type": "display_data"
    }
   ],
   "source": [
    "# calling the plot_figure function to plot number of scholarship recipients by Age group\n",
    "\n",
    "plot_figure(scholarship_recipientsGrouped, plot_type='bar',\n",
    "           color = 'blue', xlabel = 'Age Group',\n",
    "           ylabel = 'Number of scholarship recipients',\n",
    "           title = 'Number of Scholarship recipients by Age group',\n",
    "           figsize = (6,5))"
   ]
  },
  {
   "cell_type": "markdown",
   "id": "c6fa01cf",
   "metadata": {},
   "source": [
    "From the plot above the age group `20-40` had the highest number of patients who were recipients of the welfare programme (i.e scholarship recipients)"
   ]
  },
  {
   "cell_type": "markdown",
   "id": "f6d11fe2",
   "metadata": {},
   "source": [
    "### Which age group is mostly associated with Hypertensive patients?\n",
    "\n",
    "The dataset is masked to view only patients with hypertension and the resulting dataframe is grouped using the `AgeGroup` column"
   ]
  },
  {
   "cell_type": "code",
   "execution_count": 23,
   "id": "71d135df",
   "metadata": {},
   "outputs": [
    {
     "name": "stdout",
     "output_type": "stream",
     "text": [
      "AgeGroup\n",
      "0-20         49\n",
      "20-40      1745\n",
      "40-60      9005\n",
      "60-80      9202\n",
      "80-100     1799\n",
      "100-120       1\n",
      "Name: Hipertension, dtype: int64\n"
     ]
    }
   ],
   "source": [
    "hyper_patients = df_edited.query('Hipertension == 1')\n",
    "\n",
    "hyper_patientsGrouped = hyper_patients.groupby('AgeGroup')['Hipertension'].count()\n",
    "\n",
    "print(hyper_patientsGrouped)"
   ]
  },
  {
   "cell_type": "code",
   "execution_count": 24,
   "id": "c1ca172c",
   "metadata": {},
   "outputs": [
    {
     "data": {
      "image/png": "[encoded data removed]",
      "text/plain": [
       "<Figure size 432x360 with 1 Axes>"
      ]
     },
     "metadata": {
      "needs_background": "light"
     },
     "output_type": "display_data"
    }
   ],
   "source": [
    "# calling the plot_figure function to plot number of hypertensive patients by Age group\n",
    "\n",
    "plot_figure(hyper_patientsGrouped, plot_type='bar',\n",
    "           xlabel = 'Age groups', ylabel = 'Number of Hypertensive patients',\n",
    "           color = 'red',\n",
    "           title = 'Number of Hypertensive patients by Age group',\n",
    "           figsize = (6,5))"
   ]
  },
  {
   "cell_type": "markdown",
   "id": "aaa5c31b",
   "metadata": {},
   "source": [
    "The `60-80` age group had the highest number of hypertensive patients followed by the `40-60` age group."
   ]
  },
  {
   "cell_type": "markdown",
   "id": "5fb1e6ef",
   "metadata": {},
   "source": [
    "### Which age group has the highest number of Diabetes patients?"
   ]
  },
  {
   "cell_type": "code",
   "execution_count": 25,
   "id": "509a27fd",
   "metadata": {},
   "outputs": [
    {
     "name": "stdout",
     "output_type": "stream",
     "text": [
      "AgeGroup\n",
      "0-20         61\n",
      "20-40       507\n",
      "40-60      2988\n",
      "60-80      3801\n",
      "80-100      586\n",
      "100-120       0\n",
      "Name: Diabetes, dtype: int64\n"
     ]
    }
   ],
   "source": [
    "diabetics = df_edited.query('Diabetes == 1') # masking the dataset to view all diabetic patients\n",
    "\n",
    "diabeticsGrouped = diabetics.groupby('AgeGroup')['Diabetes'].count()\n",
    "\n",
    "print(diabeticsGrouped)"
   ]
  },
  {
   "cell_type": "code",
   "execution_count": 26,
   "id": "60ca2a22",
   "metadata": {},
   "outputs": [
    {
     "data": {
      "image/png": "[encoded data removed]",
      "text/plain": [
       "<Figure size 432x360 with 1 Axes>"
      ]
     },
     "metadata": {
      "needs_background": "light"
     },
     "output_type": "display_data"
    }
   ],
   "source": [
    "# calling the plot_figure function to plot number of diabetic patients by Age group\n",
    "\n",
    "plot_figure(diabeticsGrouped, plot_type='bar',\n",
    "           xlabel = 'Age groups', ylabel = 'Number of Diabetic patients',\n",
    "           title = 'Number of Diabetic patients by Age groups',\n",
    "           figsize = (6,5), color = 'purple')"
   ]
  },
  {
   "cell_type": "markdown",
   "id": "61961c44",
   "metadata": {},
   "source": [
    "The `60-80` age group has the highest number of Diabetics followed by the `40-60` age group"
   ]
  },
  {
   "cell_type": "markdown",
   "id": "dcc407b6",
   "metadata": {},
   "source": [
    "### Which age group has the highest number of patient suffering from alcoholism?\n"
   ]
  },
  {
   "cell_type": "code",
   "execution_count": 27,
   "id": "b868c43d",
   "metadata": {},
   "outputs": [
    {
     "data": {
      "text/plain": [
       "AgeGroup\n",
       "0-20         35\n",
       "20-40       730\n",
       "40-60      1860\n",
       "60-80       714\n",
       "80-100       21\n",
       "100-120       0\n",
       "Name: Alcoholism, dtype: int64"
      ]
     },
     "execution_count": 27,
     "metadata": {},
     "output_type": "execute_result"
    }
   ],
   "source": [
    "alcoholic = df_edited.query('Alcoholism == 1')\n",
    "\n",
    "alcoholicGrouped = alcoholic.groupby('AgeGroup')['Alcoholism'].count()\n",
    "\n",
    "alcoholicGrouped"
   ]
  },
  {
   "cell_type": "code",
   "execution_count": 28,
   "id": "e9155e30",
   "metadata": {},
   "outputs": [
    {
     "data": {
      "image/png": "[encoded data removed]",
      "text/plain": [
       "<Figure size 432x360 with 1 Axes>"
      ]
     },
     "metadata": {
      "needs_background": "light"
     },
     "output_type": "display_data"
    }
   ],
   "source": [
    "# calling the plot_function to plot a bar chart of number of alcoholics by age group\n",
    "\n",
    "plot_figure(alcoholicGrouped, plot_type='bar',\n",
    "           xlabel = 'Age groups',\n",
    "           ylabel = 'Number of Patients',\n",
    "           title = 'Number of Alcoholic patients by Age group',\n",
    "           figsize = (6,5),\n",
    "           color = 'magenta')"
   ]
  },
  {
   "cell_type": "markdown",
   "id": "1749f0fb",
   "metadata": {},
   "source": [
    "The age group `40-60` has the highest number of patients suffering from Alcoholism."
   ]
  },
  {
   "cell_type": "markdown",
   "id": "e5787b6b",
   "metadata": {},
   "source": [
    "### Does Certain Age groups show up more for a scheduled appointment? If yes, why?\n",
    "\n",
    "A probable factor that determines if a patient will show up for a scheduled appointment is the Age of the patient.  "
   ]
  },
  {
   "cell_type": "code",
   "execution_count": 29,
   "id": "e99f3fed",
   "metadata": {},
   "outputs": [
    {
     "name": "stdout",
     "output_type": "stream",
     "text": [
      "AgeGroup\n",
      "0-20       24752\n",
      "20-40      22209\n",
      "40-60      24490\n",
      "60-80      14373\n",
      "80-100      2379\n",
      "100-120        4\n",
      "Name: AppointmentID, dtype: int64\n"
     ]
    }
   ],
   "source": [
    "# Masking the dataset to view only those that showed up for their appointment. \n",
    "showed_up = df_edited.query(\"`No-show` == 'No'\")\n",
    "\n",
    "# segmenting the masked dataset into age groups\n",
    "showedUp_AgeGroup = showed_up.groupby(['AgeGroup'])['AppointmentID'].count()\n",
    "\n",
    "print(showedUp_AgeGroup)"
   ]
  },
  {
   "cell_type": "code",
   "execution_count": 30,
   "id": "1003e6b1",
   "metadata": {},
   "outputs": [
    {
     "data": {
      "image/png": "[encoded data removed]",
      "text/plain": [
       "<Figure size 432x360 with 1 Axes>"
      ]
     },
     "metadata": {
      "needs_background": "light"
     },
     "output_type": "display_data"
    }
   ],
   "source": [
    "# calling the plot_figure function to plot a bar chart of patients that showed up by Age groups\n",
    "\n",
    "plot_figure(df=showedUp_AgeGroup, color = 'maroon',\n",
    "            plot_type='bar', xlabel = 'Age Groups', \n",
    "            ylabel = 'Population', \n",
    "            title= 'Population of Patients that showed up for their appointments by Age groups',\n",
    "           figsize = (6,5))"
   ]
  },
  {
   "cell_type": "markdown",
   "id": "f4de3d84",
   "metadata": {},
   "source": [
    "From the plot above, the age groups `0-20` and `40-60` can be seen to have the highest population of patients who showed up for their appointments."
   ]
  },
  {
   "cell_type": "markdown",
   "id": "942a9aa7",
   "metadata": {},
   "source": [
    "A quick look at the fraction of patients who registered for an appointment and those that showed up will give a better insight at the Age group that showed up most for a scheduled appointment. "
   ]
  },
  {
   "cell_type": "code",
   "execution_count": 31,
   "id": "5c47192b",
   "metadata": {},
   "outputs": [],
   "source": [
    "AgeGroup_grouped # a pandas series of the number of patients appointments by age group\n",
    "\n",
    "showedUp_AgeGroup # a pandas series of the number of patients that showed up by their age group.\n",
    "\n",
    "showedUp_AgeGroup_frac = showedUp_AgeGroup/AgeGroup_grouped"
   ]
  },
  {
   "cell_type": "code",
   "execution_count": 32,
   "id": "a5cb1b3b",
   "metadata": {},
   "outputs": [
    {
     "data": {
      "image/png": "[encoded data removed]",
      "text/plain": [
       "<Figure size 432x360 with 1 Axes>"
      ]
     },
     "metadata": {
      "needs_background": "light"
     },
     "output_type": "display_data"
    }
   ],
   "source": [
    "plot_figure(showedUp_AgeGroup_frac, plot_type='line',\n",
    "           xlabel = 'Age Groups',\n",
    "           ylabel = 'Fraction of Patients ',\n",
    "           title = 'Fraction of patients that showed up out of the total registered by Age groups',\n",
    "           color = 'teal',\n",
    "           figsize = (6,5))"
   ]
  },
  {
   "cell_type": "markdown",
   "id": "111fb566",
   "metadata": {},
   "source": [
    "From the plot of `Fraction of patients that showed up out of the total registered by Age Groups`, the age group `60-80` had the highest fraction of patients that showed up out of the total registered. This is because the age group `60-80` had the highest number of patients associated with diabetes and hypertension."
   ]
  },
  {
   "cell_type": "markdown",
   "id": "0540caa6",
   "metadata": {},
   "source": [
    "### Do patients with ailments show up more for appointments?\n",
    "\n",
    "The previous analysis proves this to a certain extent but a look at it across all age groups brings along a new insight!"
   ]
  },
  {
   "cell_type": "code",
   "execution_count": 33,
   "id": "a9f1495a",
   "metadata": {},
   "outputs": [
    {
     "name": "stdout",
     "output_type": "stream",
     "text": [
      "21801\n"
     ]
    },
    {
     "data": {
      "image/png": "[encoded data removed]",
      "text/plain": [
       "<Figure size 432x360 with 1 Axes>"
      ]
     },
     "metadata": {
      "needs_background": "light"
     },
     "output_type": "display_data"
    }
   ],
   "source": [
    "# Checking the No-show distribution of hypertensive patients using the plot_figure function\n",
    "\n",
    "print(hyper_patients['Hipertension'].count())\n",
    "\n",
    "Hyper_noShow = hyper_patients.groupby(['No-show'])['Hipertension'].count()\n",
    "\n",
    "plot_figure(df = Hyper_noShow,color = ['blue','red'], plot_type='bar',\n",
    "            xlabel = 'No-show Category', ylabel = 'Population', \n",
    "            title = 'No-show population distribution for Hypertensive patients', \n",
    "           figsize = (6,5))"
   ]
  },
  {
   "cell_type": "markdown",
   "id": "cfdee02d",
   "metadata": {},
   "source": [
    "Keeping in mind that the encoding of **No-show = No** implies that the patient showed for the appointment; this reveals that **Hypertensive patients showed up more for their appointments with the doctor**"
   ]
  },
  {
   "cell_type": "code",
   "execution_count": 34,
   "id": "4fac52ae",
   "metadata": {},
   "outputs": [
    {
     "data": {
      "image/png": "[encoded data removed]",
      "text/plain": [
       "<Figure size 360x360 with 1 Axes>"
      ]
     },
     "metadata": {
      "needs_background": "light"
     },
     "output_type": "display_data"
    }
   ],
   "source": [
    "# Checking the No-show distribution for Diabetic patients\n",
    "\n",
    "diabetics_noShow = diabetics.groupby('No-show')['Diabetes'].count()\n",
    "\n",
    "# calling the plot_figure function to view the No-show distribution of diabetic patients\n",
    "\n",
    "plot_figure(df=diabetics_noShow, plot_type='bar',\n",
    "           color = ['blue', 'green'], ylabel = 'Population',\n",
    "           xlabel = 'No-show category',\n",
    "           title = 'No-show population distribution for Diabetic Patients',\n",
    "           figsize = (5,5))\n"
   ]
  },
  {
   "cell_type": "markdown",
   "id": "09b3888d",
   "metadata": {},
   "source": [
    "The number of Diabetes patients that showed up for their appointment were more than those that missed theirs."
   ]
  },
  {
   "cell_type": "code",
   "execution_count": 35,
   "id": "f0fb5e32",
   "metadata": {},
   "outputs": [
    {
     "data": {
      "image/png": "[encoded data removed]",
      "text/plain": [
       "<Figure size 432x288 with 1 Axes>"
      ]
     },
     "metadata": {
      "needs_background": "light"
     },
     "output_type": "display_data"
    }
   ],
   "source": [
    "# viewing the No-show distribution of both ailments on a single plot\n",
    "\n",
    "patients = ['Hypertension', 'Diabetes']\n",
    "\n",
    "X_axis = np.arange(len(patients))\n",
    "\n",
    "bar1 = [Hyper_noShow[0], diabetics_noShow[0]]\n",
    "bar2 = [Hyper_noShow[1], diabetics_noShow[1]]\n",
    "plt.bar(X_axis-0.2, bar1, 0.4, label = 'showed')\n",
    "plt.bar(X_axis+0.2, bar2, 0.4, label = 'missed')\n",
    "plt.xlabel('Ailment', fontsize = 13)\n",
    "plt.ylabel('Population', fontsize=13)\n",
    "plt.title('The No-show Population distribution for Patients with different ailments')\n",
    "plt.xticks(X_axis, patients)\n",
    "plt.legend();"
   ]
  },
  {
   "cell_type": "markdown",
   "id": "a142d917",
   "metadata": {},
   "source": [
    "From this plot, it can deduced that patients suffering from one ailment or the other across all age groups tend to show up more for their scheduled appointment."
   ]
  },
  {
   "cell_type": "markdown",
   "id": "5ac05f09",
   "metadata": {},
   "source": [
    "### Is enrollment in the welfare programme a determing factor for patients showing up for their scheduled appointment?\n",
    "\n",
    "In answering this question, we'll take a look at the the number of patients who showed up for their appointments and group this value into those that were enrolled for the programme(i.e Scholarship recipients) and those that were not."
   ]
  },
  {
   "cell_type": "code",
   "execution_count": 36,
   "id": "c35895ea",
   "metadata": {},
   "outputs": [
    {
     "name": "stdout",
     "output_type": "stream",
     "text": [
      "Scholarship\n",
      "0    79924\n",
      "1     8283\n",
      "Name: Scholarship, dtype: int64\n"
     ]
    },
    {
     "data": {
      "image/png": "[encoded data removed]",
      "text/plain": [
       "<Figure size 360x360 with 1 Axes>"
      ]
     },
     "metadata": {
      "needs_background": "light"
     },
     "output_type": "display_data"
    }
   ],
   "source": [
    "# grouping the patients that showed up into scholarship recipients (enrollment in welfare programme). \n",
    "\n",
    "scholarship_showed = showed_up.groupby(['Scholarship'])['Scholarship'].count()\n",
    "\n",
    "print(scholarship_showed)\n",
    "\n",
    "plot_figure(df = scholarship_showed, plot_type='bar',\n",
    "            xlabel='Scholarship status',\n",
    "           ylabel = 'Number of Patients',\n",
    "           title = 'Number of Patients who showed up by scholarship status',\n",
    "           color = ['brown','teal'],\n",
    "           figsize = (5,5))\n",
    "\n",
    "\n"
   ]
  },
  {
   "cell_type": "markdown",
   "id": "02eeb382",
   "metadata": {},
   "source": [
    "This plot clearly shows that the probability that a patient shows up for an appointment is not based on his or her scholarship status because most of the patients that showed up for their scheduled appointments were not scholarship recipients (i.e they were not enrolled in the welfare programme). \n",
    "\n",
    "**PS: 0 = False, 1 = True**"
   ]
  },
  {
   "cell_type": "markdown",
   "id": "bc354270",
   "metadata": {},
   "source": [
    "### Does waiting time have an effect on patients showing up or missing their appointments?\n",
    "\n",
    "This question can be approached by viewing the number of patients that showed up and grouping them by the number of days they had to wait; comparing it with the patients that missed their appointments and grouping them by the number of days they had to wait."
   ]
  },
  {
   "cell_type": "code",
   "execution_count": 37,
   "id": "1e4edf72",
   "metadata": {},
   "outputs": [
    {
     "data": {
      "image/png": "[encoded data removed]",
      "text/plain": [
       "<Figure size 1584x432 with 1 Axes>"
      ]
     },
     "metadata": {
      "needs_background": "light"
     },
     "output_type": "display_data"
    }
   ],
   "source": [
    "showed_up # previously defined for number of patients that showed up for their appointments \n",
    "\n",
    "# grouping the number of patients that showed up by the number of days they had to wait.\n",
    "showed_upWait = showed_up.groupby('WaitingDays')['AppointmentID'].count() \n",
    "\n",
    "\n",
    "# calling the plot_function to create a bar plot to show the number of patients that\n",
    "# showed up and the number of days they had to wait.\n",
    "\n",
    "plot_figure(showed_upWait, plot_type='bar',\n",
    "           xlabel = 'Number of Waiting days',\n",
    "           ylabel = 'Number of patients',\n",
    "           title = 'Number of patients that showed up by the number of days they had to wait',\n",
    "           color = 'blue',\n",
    "           figsize = (22,6))"
   ]
  },
  {
   "cell_type": "markdown",
   "id": "393b69bc",
   "metadata": {},
   "source": [
    "From the plot above, the number of patients that showed up for their appointment kept reducing as the number of days they had to wait increased. Appointments fixed on the day it was registered attracted the most number of patients (46% of the total appointments where the patients showed up).This implies that having an appointment fixed on the day it was registered had a huge influence on the patient showing up. Now, this will be compared with patients that missed their appointments and the number of days they had to wait before seeing the doctor."
   ]
  },
  {
   "cell_type": "code",
   "execution_count": 38,
   "id": "6650b2b3",
   "metadata": {},
   "outputs": [
    {
     "data": {
      "image/png": "[encoded data removed]",
      "text/plain": [
       "<Figure size 1584x432 with 1 Axes>"
      ]
     },
     "metadata": {
      "needs_background": "light"
     },
     "output_type": "display_data"
    }
   ],
   "source": [
    "# masking the dataset to view patients who missed their appointments\n",
    "missed = df_edited.query('`No-show` == \"Yes\"')\n",
    "\n",
    "# grouping the patients that missed their appointments by the number of days they had to wait\n",
    "missed_Wait = missed.groupby('WaitingDays')['AppointmentID'].count()\n",
    "\n",
    "\n",
    "plot_figure(missed_Wait, plot_type='bar',\n",
    "           xlabel = 'Number of Waiting days',\n",
    "           ylabel = 'Number of patients',\n",
    "           title = 'Number of patients that missed their appointments by the number of days they had to wait',\n",
    "           color = 'blue',\n",
    "           figsize = (22,6))"
   ]
  },
  {
   "cell_type": "markdown",
   "id": "3aeb5f7c",
   "metadata": {},
   "source": [
    "Compared to the previous chart on *Number of Patients that showed up by the number of days they had to wait*, 13% of patients that missed their appointments were scheduled to see the doctor on the same day the appointment was registered. We cannot sufficely say that the number of waiting days influences a patient missing an appointment because most patients that missed their appointments had their appointments fixed on the day it was registered."
   ]
  },
  {
   "cell_type": "code",
   "execution_count": 39,
   "id": "9678b086",
   "metadata": {},
   "outputs": [
    {
     "name": "stdout",
     "output_type": "stream",
     "text": [
      "88207\n",
      "40870\n",
      "47337\n",
      "0.46334191163966576\n",
      "0.5366580883603342\n",
      "2905\n",
      "19409\n",
      "22314\n",
      "0.1301873263422067\n",
      "0.8698126736577934\n"
     ]
    }
   ],
   "source": [
    "print(showed_upWait.sum())\n",
    "print(showed_upWait[0])\n",
    "print(showed_upWait[1:].sum())\n",
    "print(showed_upWait[0]/showed_upWait.sum())\n",
    "print(showed_upWait[1:].sum()/showed_upWait.sum())\n",
    "\n",
    "print(missed_Wait[0])\n",
    "print(missed_Wait[1:].sum())\n",
    "print(missed_Wait.sum())\n",
    "print(missed_Wait[0]/missed_Wait.sum())\n",
    "print(missed_Wait[1:].sum()/missed_Wait.sum())"
   ]
  },
  {
   "cell_type": "markdown",
   "id": "888af9d6",
   "metadata": {},
   "source": [
    "### Does SMS receival influence the showing of a patient for a scheduled appointment?\n",
    "\n",
    "This question can be approached by comparing the number of patients that received an SMS reminder and showed up for their appointment to those that didn't and also showed up."
   ]
  },
  {
   "cell_type": "code",
   "execution_count": 40,
   "id": "8acada31",
   "metadata": {},
   "outputs": [
    {
     "name": "stdout",
     "output_type": "stream",
     "text": [
      "SMS_received\n",
      "0    75039\n",
      "1    35482\n",
      "Name: AppointmentID, dtype: int64\n"
     ]
    },
    {
     "data": {
      "image/png": "[encoded data removed]",
      "text/plain": [
       "<Figure size 360x288 with 1 Axes>"
      ]
     },
     "metadata": {
      "needs_background": "light"
     },
     "output_type": "display_data"
    }
   ],
   "source": [
    "# masking the dataset to view those that received an SMS\n",
    "SMS_received_yes = df_edited.query('SMS_received == 1')\n",
    "\n",
    "# masking the dataset to reveal those that did not receive an SMS \n",
    "SMS_received_no = df_edited.query('SMS_received == 0')\n",
    "\n",
    "#grouping the dataset by SMS_receival to compare the number of those that received an SMS to those that did not.\n",
    "SMS_received_grouped = df_edited.groupby('SMS_received')['AppointmentID'].count()\n",
    "\n",
    "print(SMS_received_grouped)\n",
    "\n",
    "plot_figure(SMS_received_grouped, plot_type='bar',\n",
    "           xlabel= 'SMS_receival Category',\n",
    "           ylabel = 'Number of patients',\n",
    "           title = 'Number of patients by SMS receival',\n",
    "           figsize = (5,4),\n",
    "           color = ['orange', 'teal'])\n",
    "\n",
    "\n"
   ]
  },
  {
   "cell_type": "markdown",
   "id": "ff95d4ed",
   "metadata": {},
   "source": [
    "This plot clearly shows that the number of patients that did not receive an SMS reminder (about 67%) is higher than those that did (32%)\n",
    "\n",
    "This can be investigated further to reveal if the receiving of an SMS influenced the showing of a patient for a scheduled appointment. This can be approached by comparing the number of those that received an SMS and showed for a scheduled appointment to those that received an SMS and still missed the appointment."
   ]
  },
  {
   "cell_type": "code",
   "execution_count": 41,
   "id": "8e5859bd",
   "metadata": {},
   "outputs": [
    {
     "name": "stdout",
     "output_type": "stream",
     "text": [
      "No-show\n",
      "No     25698\n",
      "Yes     9784\n",
      "Name: AppointmentID, dtype: int64\n"
     ]
    }
   ],
   "source": [
    "# grouping the dataframe of those that received an SMS by the No-show column\n",
    "\n",
    "SMS_received_yes_NoShow = SMS_received_yes.groupby(['No-show'])['AppointmentID'].count()\n",
    "\n",
    "print(SMS_received_yes_NoShow)"
   ]
  },
  {
   "cell_type": "code",
   "execution_count": 42,
   "id": "c88d155a",
   "metadata": {},
   "outputs": [
    {
     "data": {
      "image/png": "[encoded data removed]",
      "text/plain": [
       "<Figure size 432x360 with 1 Axes>"
      ]
     },
     "metadata": {
      "needs_background": "light"
     },
     "output_type": "display_data"
    }
   ],
   "source": [
    "# calling the plot_figure function to view the values graphically\n",
    "\n",
    "plot_figure(SMS_received_yes_NoShow, plot_type='bar',\n",
    "           ylabel = 'Number of patients',\n",
    "           xlabel = 'No show category',\n",
    "           title = 'Number of patients that received an SMS by their No show category',\n",
    "           color = ['blue', 'red'],\n",
    "           figsize = (6,5))"
   ]
  },
  {
   "cell_type": "markdown",
   "id": "2df56fe8",
   "metadata": {},
   "source": [
    "From the plot of patients that received an SMS and their No-show category, it can be deduced that the number of those that received an SMS and showed for the appointment is greater than those that received an SMS and still missed their appointment.\n",
    "\n",
    "Lets investigate further to view the number of people people that didn't receive an SMS and yet showed up for their appointment."
   ]
  },
  {
   "cell_type": "code",
   "execution_count": 43,
   "id": "aa5c7443",
   "metadata": {},
   "outputs": [],
   "source": [
    "# grouping the dataframe of those did not receive an SMS by the No-show column\n",
    "\n",
    "SMS_received_no_NoShow = SMS_received_no.groupby('No-show')['AppointmentID'].count()"
   ]
  },
  {
   "cell_type": "code",
   "execution_count": 44,
   "id": "64b78fdc",
   "metadata": {},
   "outputs": [
    {
     "data": {
      "text/plain": [
       "No-show\n",
       "No     62509\n",
       "Yes    12530\n",
       "Name: AppointmentID, dtype: int64"
      ]
     },
     "execution_count": 44,
     "metadata": {},
     "output_type": "execute_result"
    }
   ],
   "source": [
    "SMS_received_no_NoShow"
   ]
  },
  {
   "cell_type": "code",
   "execution_count": 45,
   "id": "e56cb6c3",
   "metadata": {},
   "outputs": [
    {
     "data": {
      "image/png": "[encoded data removed]",
      "text/plain": [
       "<Figure size 432x360 with 1 Axes>"
      ]
     },
     "metadata": {
      "needs_background": "light"
     },
     "output_type": "display_data"
    }
   ],
   "source": [
    "# calling the plot_figure function to view the values graphically\n",
    "\n",
    "plot_figure(SMS_received_no_NoShow, plot_type='bar',\n",
    "           xlabel = 'No-show Category',\n",
    "           ylabel = 'Number of Patients',\n",
    "           title = 'Number of Patients that did not receive an SMS by their No-show category',\n",
    "           color = ['purple', 'red'],\n",
    "           figsize = (6,5))"
   ]
  },
  {
   "cell_type": "markdown",
   "id": "402a0e19",
   "metadata": {},
   "source": [
    "---\n",
    "This plot reveals that those that didn't receive an SMS and yet showed up for their appointment is higher than those that didn't and missed their appointment.\n",
    "\n",
    "We can conclusively say the receival of an SMS reminder does not influence a patient showing up for a scheduled appointment because the percentage of those that didn't receive an SMS and yet showed up for their appointment is much higher (83%) than those that received an SMS and showed up (72%)"
   ]
  },
  {
   "cell_type": "markdown",
   "id": "b3f811e9",
   "metadata": {},
   "source": [
    "<a id = conclusion ></a>\n",
    "## Conclusion"
   ]
  },
  {
   "cell_type": "markdown",
   "id": "afd767f1",
   "metadata": {},
   "source": [
    "___\n",
    "This project sought to determine the factors to be considered, in order to predict the showing up \n",
    "of a patient, for a scheduled appointment and from the investigations carried out, the following was discovered:\n",
    "\n",
    "><li>The Age group 0-20 had the highest number of patients followed by age group 40-60\n",
    "><li>The age group 20-40 had the highest number of scholarship recipients followed by the age group 0-20\n",
    "><li>The 60-80 age group had the highest number of hypertensive and diabetic patients followed by the 40-60 age group; whereas most alcoholic patients were in the age range 40-60.\n",
    "><li>The age group 60-80 had the highest fraction of patients that showed up and this was because it was the age group with the highest number of patients suffering from Diabetes and Hypertension.\n",
    "><li> Across all age groups, patients with ailments(Diabetes and hypertension) show up more for their scheduled appointment compared to others.\n",
    "><li>Being enrolled in the scholarship programme does not influence the showing up of a patient for a scheduled appointment because most patients that showed up were not scholarship recipients.\n",
    "><li> The number of waiting days played a huge role in the showing up of a patient for a scheduled appointment because 46% of those who showed up had their appointments fixed on the day it was registered.\n",
    "><li> There was a 10.9% difference in the number of people that didn't receive an SMS; yet showed up, compared to the number of those that did and showed up. So, SMS receival has no significance.\n",
    "    \n",
    "Therefore it can be conclusively said that **the number of waiting days**\n",
    "    and **whether a patient has an ailment** are the most important factors to consider when predicting if a patient will show up for a scheduled appointment.\n",
    "    \n",
    "> The only limitation of this dataset is that it cannot be ascertained if the data is real and verified."
   ]
  },
  {
   "cell_type": "code",
   "execution_count": null,
   "id": "023d6799",
   "metadata": {},
   "outputs": [],
   "source": []
  },
  {
   "cell_type": "code",
   "execution_count": null,
   "id": "9128bc1d",
   "metadata": {},
   "outputs": [],
   "source": []
  }
 ],
 "metadata": {
  "kernelspec": {
   "display_name": "Python 3 (ipykernel)",
   "language": "python",
   "name": "python3"
  },
  "language_info": {
   "codemirror_mode": {
    "name": "ipython",
    "version": 3
   },
   "file_extension": ".py",
   "mimetype": "text/x-python",
   "name": "python",
   "nbconvert_exporter": "python",
   "pygments_lexer": "ipython3",
   "version": "3.9.7"
  }
 },
 "nbformat": 4,
 "nbformat_minor": 5
}
